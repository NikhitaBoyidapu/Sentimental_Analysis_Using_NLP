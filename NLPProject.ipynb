{
 "cells": [
  {
   "cell_type": "code",
   "execution_count": 1,
   "id": "00b763bd",
   "metadata": {
    "scrolled": true
   },
   "outputs": [],
   "source": [
    "#!pip install transformers \n"
   ]
  },
  {
   "cell_type": "code",
   "execution_count": 4,
   "id": "6e353448",
   "metadata": {
    "scrolled": true
   },
   "outputs": [],
   "source": [
    "import pandas as pd\n",
    "import nltk\n",
    "import tweepy\n",
    "import csv"
   ]
  },
  {
   "cell_type": "code",
   "execution_count": 3,
   "id": "a2000d09",
   "metadata": {
    "scrolled": false
   },
   "outputs": [
    {
     "name": "stdout",
     "output_type": "stream",
     "text": [
      "Authentication OK\n"
     ]
    }
   ],
   "source": [
    "auth = tweepy.OAuthHandler(\"PAjwwvpWMw9l308c5I7LTWiAU\", \n",
    "    \"i666c0iZSsVnFPM6OowjWAsW4j3NGtcU3SXl0B8Ev96kA2uxDk\")\n",
    "auth.set_access_token(\"1649879424311885824-QJSQCgLX3UPETwrGV01thFS9ug6Vq5\", \n",
    "    \"80xPQa5TdgA6OenzxAzDyu0XkpakWNL7V31LRRirTAIlg\")\n",
    "\n",
    "api = tweepy.API(auth)\n",
    "\n",
    "try:\n",
    "    api.verify_credentials()\n",
    "    print(\"Authentication OK\")\n",
    "except:\n",
    "    print(\"Error during authentication\")"
   ]
  },
  {
   "cell_type": "code",
   "execution_count": null,
   "id": "532306bd",
   "metadata": {
    "scrolled": false
   },
   "outputs": [],
   "source": [
    "hashtags = [\"#usf\",\"#BullPride\",\"#USF\",\"#usfbulls\",\"#USFGives\",\"#HornsUp\",\"#ComeToTheBay\",\"#ComeToTheBay\",\"#StayInTheBay\",\"#ProBulls\",\"#USFalumni\",\"#GoBulls\",\"#USFBookstore\",\"#ProBulls\",\"#USFalumni\",\"#BucStrong\"]\n",
    "uniquetweetlist=set()\n",
    "tweetlist=set()\n",
    "for hashtag in hashtags:\n",
    "    for tweet in tweepy.Cursor(api.search_tweets, q=hashtag, lang=\"en\", tweet_mode=\"extended\").items(2000):\n",
    "        if tweet.full_text not in tweetlist:\n",
    "            uniquetweetlist.add(tweet)\n",
    "            tweetlist.add(tweet.full_text)\n",
    "len(uniquetweetlist)"
   ]
  },
  {
   "cell_type": "code",
   "execution_count": null,
   "id": "7800075b",
   "metadata": {
    "scrolled": true
   },
   "outputs": [],
   "source": [
    "with open(f\"USFFinalDataset.csv\", \"w\", newline=\"\", encoding=\"utf-8\") as file:\n",
    "    writer = csv.writer(file)\n",
    "    writer.writerow([\"Text\", \"User\", \"Date\", \"Time\"])\n",
    "    for eachtweet in uniquetweetlist:\n",
    "        writer.writerow([eachtweet.full_text, eachtweet.user.screen_name, eachtweet.created_at.date(), eachtweet.created_at.time()])"
   ]
  },
  {
   "cell_type": "markdown",
   "id": "385096a3",
   "metadata": {},
   "source": [
    "<b>Data Reading</b>"
   ]
  },
  {
   "cell_type": "code",
   "execution_count": 5,
   "id": "2eec02dd",
   "metadata": {
    "scrolled": true
   },
   "outputs": [
    {
     "data": {
      "text/html": [
       "<div>\n",
       "<style scoped>\n",
       "    .dataframe tbody tr th:only-of-type {\n",
       "        vertical-align: middle;\n",
       "    }\n",
       "\n",
       "    .dataframe tbody tr th {\n",
       "        vertical-align: top;\n",
       "    }\n",
       "\n",
       "    .dataframe thead th {\n",
       "        text-align: right;\n",
       "    }\n",
       "</style>\n",
       "<table border=\"1\" class=\"dataframe\">\n",
       "  <thead>\n",
       "    <tr style=\"text-align: right;\">\n",
       "      <th></th>\n",
       "      <th>Text</th>\n",
       "      <th>User</th>\n",
       "      <th>Date</th>\n",
       "      <th>Time</th>\n",
       "      <th>Original Text</th>\n",
       "      <th>Sentiment Value</th>\n",
       "      <th>Sentiment</th>\n",
       "    </tr>\n",
       "  </thead>\n",
       "  <tbody>\n",
       "    <tr>\n",
       "      <th>0</th>\n",
       "      <td>spruce creek 2025 dl derry norris lands offer</td>\n",
       "      <td>ChrisBoyleDBNJ</td>\n",
       "      <td>03-05-2023</td>\n",
       "      <td>17:54:07</td>\n",
       "      <td>Spruce Creek 2025 DL Derry Norris lands an off...</td>\n",
       "      <td>0</td>\n",
       "      <td>neutral</td>\n",
       "    </tr>\n",
       "    <tr>\n",
       "      <th>1</th>\n",
       "      <td>ranked 14th among american public research uni...</td>\n",
       "      <td>USFResearch</td>\n",
       "      <td>03-05-2023</td>\n",
       "      <td>16:24:29</td>\n",
       "      <td>RT @USFHealth: .@USouthFlorida ranked 14th amo...</td>\n",
       "      <td>0</td>\n",
       "      <td>neutral</td>\n",
       "    </tr>\n",
       "    <tr>\n",
       "      <th>2</th>\n",
       "      <td>russell warrior game amazing niece always took...</td>\n",
       "      <td>BillHudgens2</td>\n",
       "      <td>03-05-2023</td>\n",
       "      <td>15:53:11</td>\n",
       "      <td>RT @Karen_Russell: @VP @SecondGentleman I was ...</td>\n",
       "      <td>1</td>\n",
       "      <td>positive</td>\n",
       "    </tr>\n",
       "    <tr>\n",
       "      <th>3</th>\n",
       "      <td>congratulations usf pasco pds network teacher ...</td>\n",
       "      <td>CountOnColleen</td>\n",
       "      <td>03-05-2023</td>\n",
       "      <td>15:18:31</td>\n",
       "      <td>RT @educationUSF: Congratulations to our USF/P...</td>\n",
       "      <td>1</td>\n",
       "      <td>positive</td>\n",
       "    </tr>\n",
       "    <tr>\n",
       "      <th>4</th>\n",
       "      <td>ranked 14th among american public research uni...</td>\n",
       "      <td>USFHealth</td>\n",
       "      <td>03-05-2023</td>\n",
       "      <td>14:30:29</td>\n",
       "      <td>.@USouthFlorida ranked 14th among American pub...</td>\n",
       "      <td>1</td>\n",
       "      <td>positive</td>\n",
       "    </tr>\n",
       "  </tbody>\n",
       "</table>\n",
       "</div>"
      ],
      "text/plain": [
       "                                                Text            User  \\\n",
       "0      spruce creek 2025 dl derry norris lands offer  ChrisBoyleDBNJ   \n",
       "1  ranked 14th among american public research uni...     USFResearch   \n",
       "2  russell warrior game amazing niece always took...    BillHudgens2   \n",
       "3  congratulations usf pasco pds network teacher ...  CountOnColleen   \n",
       "4  ranked 14th among american public research uni...       USFHealth   \n",
       "\n",
       "         Date      Time                                      Original Text  \\\n",
       "0  03-05-2023  17:54:07  Spruce Creek 2025 DL Derry Norris lands an off...   \n",
       "1  03-05-2023  16:24:29  RT @USFHealth: .@USouthFlorida ranked 14th amo...   \n",
       "2  03-05-2023  15:53:11  RT @Karen_Russell: @VP @SecondGentleman I was ...   \n",
       "3  03-05-2023  15:18:31  RT @educationUSF: Congratulations to our USF/P...   \n",
       "4  03-05-2023  14:30:29  .@USouthFlorida ranked 14th among American pub...   \n",
       "\n",
       "   Sentiment Value Sentiment  \n",
       "0                0   neutral  \n",
       "1                0   neutral  \n",
       "2                1  positive  \n",
       "3                1  positive  \n",
       "4                1  positive  "
      ]
     },
     "execution_count": 5,
     "metadata": {},
     "output_type": "execute_result"
    }
   ],
   "source": [
    "datafile = pd.read_csv('USFFinalDataset.csv',encoding='iso-8859-1')\n",
    "datafile.head()"
   ]
  },
  {
   "cell_type": "code",
   "execution_count": 6,
   "id": "107cfb1c",
   "metadata": {
    "scrolled": true
   },
   "outputs": [
    {
     "name": "stdout",
     "output_type": "stream",
     "text": [
      "<class 'pandas.core.frame.DataFrame'>\n",
      "RangeIndex: 1722 entries, 0 to 1721\n",
      "Data columns (total 7 columns):\n",
      " #   Column           Non-Null Count  Dtype \n",
      "---  ------           --------------  ----- \n",
      " 0   Text             1722 non-null   object\n",
      " 1   User             1722 non-null   object\n",
      " 2   Date             1722 non-null   object\n",
      " 3   Time             1722 non-null   object\n",
      " 4   Original Text    1722 non-null   object\n",
      " 5   Sentiment Value  1722 non-null   int64 \n",
      " 6   Sentiment        1722 non-null   object\n",
      "dtypes: int64(1), object(6)\n",
      "memory usage: 94.3+ KB\n"
     ]
    }
   ],
   "source": [
    "datafile.info()"
   ]
  },
  {
   "cell_type": "code",
   "execution_count": 7,
   "id": "19d68d79",
   "metadata": {
    "scrolled": false
   },
   "outputs": [
    {
     "data": {
      "text/plain": [
       "(1722, 7)"
      ]
     },
     "execution_count": 7,
     "metadata": {},
     "output_type": "execute_result"
    }
   ],
   "source": [
    "datafile.shape"
   ]
  },
  {
   "cell_type": "code",
   "execution_count": 8,
   "id": "f5fed5bf",
   "metadata": {},
   "outputs": [
    {
     "data": {
      "text/plain": [
       "'congratulations usf pasco pds network teacher leader academy coho 4 graduates excited see amaz'"
      ]
     },
     "execution_count": 8,
     "metadata": {},
     "output_type": "execute_result"
    }
   ],
   "source": [
    "datafile['Text'][3]"
   ]
  },
  {
   "cell_type": "markdown",
   "id": "07a2fb1d",
   "metadata": {},
   "source": [
    "<b>Data Preprocessing</b>"
   ]
  },
  {
   "cell_type": "code",
   "execution_count": 9,
   "id": "0f591f03",
   "metadata": {},
   "outputs": [],
   "source": [
    "import re\n",
    "from nltk.corpus import stopwords\n",
    "def preprocess_text(text):\n",
    "    text = text.lower()\n",
    "    text = re.compile(r'https?://\\S+|www\\.\\S+|@[A-Za-z0-9]+|#[A-Za-z0-9]+|rt').sub('', text)\n",
    "    text = re.sub('[^a-z A-Z]+', ' ', text)\n",
    "    text = text.strip()\n",
    "    text = ' '.join([word for word in text.split() if word.lower() not in stop_words])\n",
    "    return ''.join(text)\n",
    "stop_words = set(stopwords.words('english'))\n",
    "datafile['Text'] = datafile['Text'].astype(str).apply(preprocess_text)"
   ]
  },
  {
   "cell_type": "code",
   "execution_count": 10,
   "id": "4c0b2ca9",
   "metadata": {},
   "outputs": [
    {
     "data": {
      "text/plain": [
       "'congratulations usf pasco pds network teacher leader academy coho graduates excited see amaz'"
      ]
     },
     "execution_count": 10,
     "metadata": {},
     "output_type": "execute_result"
    }
   ],
   "source": [
    "datafile['Text'][3]"
   ]
  },
  {
   "cell_type": "markdown",
   "id": "90613fe1",
   "metadata": {},
   "source": [
    "<b>Feature Extraction</b>"
   ]
  },
  {
   "cell_type": "code",
   "execution_count": 11,
   "id": "acfbbd5a",
   "metadata": {
    "scrolled": true
   },
   "outputs": [
    {
     "name": "stdout",
     "output_type": "stream",
     "text": [
      "Word counts matrix:   (0, 3040)\t1\n",
      "  (0, 786)\t1\n",
      "  (0, 922)\t1\n",
      "  (0, 877)\t1\n",
      "  (0, 2209)\t1\n",
      "  (0, 1808)\t1\n",
      "  (0, 2230)\t1\n",
      "  (1, 2582)\t1\n",
      "  (1, 3218)\t2\n",
      "  (1, 118)\t1\n",
      "  (1, 116)\t1\n",
      "  (1, 2531)\t1\n",
      "  (1, 2680)\t1\n",
      "  (1, 3379)\t1\n",
      "  (1, 3564)\t1\n",
      "  (1, 1301)\t1\n",
      "  (1, 2179)\t1\n",
      "  (1, 2343)\t1\n",
      "  (1, 1978)\t1\n",
      "  (2, 2775)\t1\n",
      "  (2, 3471)\t1\n",
      "  (2, 1285)\t1\n",
      "  (2, 111)\t1\n",
      "  (2, 2189)\t1\n",
      "  (2, 109)\t1\n",
      "  :\t:\n",
      "  (1719, 2602)\t1\n",
      "  (1719, 3308)\t1\n",
      "  (1720, 448)\t1\n",
      "  (1720, 2075)\t1\n",
      "  (1720, 2508)\t1\n",
      "  (1720, 120)\t1\n",
      "  (1720, 2298)\t1\n",
      "  (1720, 805)\t1\n",
      "  (1720, 2295)\t1\n",
      "  (1720, 1251)\t1\n",
      "  (1720, 3475)\t1\n",
      "  (1720, 13)\t1\n",
      "  (1720, 164)\t1\n",
      "  (1721, 3477)\t1\n",
      "  (1721, 45)\t1\n",
      "  (1721, 2729)\t1\n",
      "  (1721, 1022)\t1\n",
      "  (1721, 2383)\t1\n",
      "  (1721, 2808)\t1\n",
      "  (1721, 2939)\t1\n",
      "  (1721, 3499)\t1\n",
      "  (1721, 2384)\t1\n",
      "  (1721, 2218)\t1\n",
      "  (1721, 3353)\t1\n",
      "  (1721, 3146)\t1\n",
      "TF-IDF matrix:   (0, 3040)\t0.4073063233295028\n",
      "  (0, 2230)\t0.2474783589595487\n",
      "  (0, 2209)\t0.4073063233295028\n",
      "  (0, 1808)\t0.37091825093266756\n",
      "  (0, 922)\t0.37091825093266756\n",
      "  (0, 877)\t0.4073063233295028\n",
      "  (0, 786)\t0.4073063233295028\n",
      "  (1, 3564)\t0.2975809877154319\n",
      "  (1, 3379)\t0.2896516715030244\n",
      "  (1, 3218)\t0.3643785738918359\n",
      "  (1, 2680)\t0.256024999902321\n",
      "  (1, 2582)\t0.2829475301705254\n",
      "  (1, 2531)\t0.2829475301705254\n",
      "  (1, 2343)\t0.2896516715030244\n",
      "  (1, 2179)\t0.18808427317850618\n",
      "  (1, 1978)\t0.33743123407845216\n",
      "  (1, 1301)\t0.31979721914449105\n",
      "  (1, 118)\t0.244357975906282\n",
      "  (1, 116)\t0.2720176565690633\n",
      "  (2, 3471)\t0.3518727082368311\n",
      "  (2, 3278)\t0.30493714566995583\n",
      "  (2, 2775)\t0.3187035783792864\n",
      "  (2, 2774)\t0.37127540538504517\n",
      "  (2, 2189)\t0.3518727082368311\n",
      "  (2, 1384)\t0.1984823702136754\n",
      "  :\t:\n",
      "  (1719, 1081)\t0.3677240838368619\n",
      "  (1719, 16)\t0.3677240838368619\n",
      "  (1720, 3475)\t0.31439717292800784\n",
      "  (1720, 2508)\t0.25069905143439325\n",
      "  (1720, 2298)\t0.23864381175201263\n",
      "  (1720, 2295)\t0.33786883490491426\n",
      "  (1720, 2075)\t0.31439717292800784\n",
      "  (1720, 1251)\t0.33786883490491426\n",
      "  (1720, 805)\t0.33786883490491426\n",
      "  (1720, 448)\t0.29280121963137207\n",
      "  (1720, 164)\t0.3246502803781794\n",
      "  (1720, 120)\t0.18643013400427527\n",
      "  (1720, 13)\t0.33786883490491426\n",
      "  (1721, 3499)\t0.29605348192628944\n",
      "  (1721, 3477)\t0.23701610940842283\n",
      "  (1721, 3353)\t0.29605348192628944\n",
      "  (1721, 3146)\t0.3123782377684614\n",
      "  (1721, 2939)\t0.29605348192628944\n",
      "  (1721, 2808)\t0.29605348192628944\n",
      "  (1721, 2729)\t0.2844708833277128\n",
      "  (1721, 2384)\t0.29605348192628944\n",
      "  (1721, 2383)\t0.29605348192628944\n",
      "  (1721, 2218)\t0.29605348192628944\n",
      "  (1721, 1022)\t0.27548672187925627\n",
      "  (1721, 45)\t0.27548672187925627\n"
     ]
    }
   ],
   "source": [
    "from sklearn.feature_extraction.text import CountVectorizer, TfidfTransformer\n",
    "\n",
    "vectorizer = CountVectorizer()\n",
    "X = vectorizer.fit_transform(datafile['Text'])\n",
    "word_counts = X.toarray()\n",
    "transformer = TfidfTransformer()\n",
    "tfidf = transformer.fit_transform(word_counts)\n",
    "print(\"Word counts matrix:\", X)\n",
    "print(\"TF-IDF matrix:\", tfidf)\n"
   ]
  },
  {
   "cell_type": "code",
   "execution_count": 13,
   "id": "50a69fdb",
   "metadata": {},
   "outputs": [],
   "source": [
    "from transformers import AutoModelForSequenceClassification, AutoTokenizer\n",
    "model_name = \"cardiffnlp/twitter-roberta-base-sentiment\"\n",
    "model = AutoModelForSequenceClassification.from_pretrained(model_name)\n",
    "tokenizer = AutoTokenizer.from_pretrained(model_name)\n",
    "def sentiment_prediction(tweet):\n",
    "    print(tweet)\n",
    "    inputs = tokenizer(tweet, padding=True, truncation=True, max_length=512, return_tensors=\"pt\")\n",
    "    outputs = model(**inputs)\n",
    "    label = outputs.logits.argmax().item() - 1\n",
    "    return label"
   ]
  },
  {
   "cell_type": "code",
   "execution_count": null,
   "id": "daa3962a",
   "metadata": {},
   "outputs": [],
   "source": [
    "datafile['Sentiment Value'] = datafile['Text'].apply(lambda x: sentiment_prediction(x[:512]))\n"
   ]
  },
  {
   "cell_type": "code",
   "execution_count": null,
   "id": "db67b90c",
   "metadata": {},
   "outputs": [],
   "source": [
    "#datafile.to_csv('USFFinalDataset.csv')"
   ]
  },
  {
   "cell_type": "markdown",
   "id": "14543e3b",
   "metadata": {},
   "source": [
    "<b>Model Training</b>"
   ]
  },
  {
   "cell_type": "code",
   "execution_count": 14,
   "id": "d9beb904",
   "metadata": {},
   "outputs": [
    {
     "name": "stdout",
     "output_type": "stream",
     "text": [
      " 0    59.001161\n",
      " 1    36.817654\n",
      "-1     4.181185\n",
      "Name: Sentiment Value, dtype: float64\n"
     ]
    }
   ],
   "source": [
    "sentiment_counts = datafile['Sentiment Value'].value_counts(normalize=True) * 100\n",
    "print(sentiment_counts)"
   ]
  },
  {
   "cell_type": "code",
   "execution_count": 38,
   "id": "1797a1a3",
   "metadata": {
    "scrolled": true
   },
   "outputs": [
    {
     "name": "stdout",
     "output_type": "stream",
     "text": [
      "X_train shape:  (1377,)\n",
      "y_train shape:  (1377,)\n",
      "X_test shape:  (345,)\n",
      "y_test shape:  (345,)\n",
      "X_train shape:  (1449,)\n",
      "y_train shape:  (1449,)\n",
      "X_test shape:  (345,)\n",
      "y_test shape:  (345,)\n"
     ]
    },
    {
     "name": "stderr",
     "output_type": "stream",
     "text": [
      "C:\\Users\\bnikh\\AppData\\Local\\Temp\\ipykernel_7284\\3180724024.py:16: FutureWarning:\n",
      "\n",
      "The frame.append method is deprecated and will be removed from pandas in a future version. Use pandas.concat instead.\n",
      "\n",
      "C:\\Users\\bnikh\\AppData\\Local\\Temp\\ipykernel_7284\\3180724024.py:16: FutureWarning:\n",
      "\n",
      "The frame.append method is deprecated and will be removed from pandas in a future version. Use pandas.concat instead.\n",
      "\n",
      "C:\\Users\\bnikh\\AppData\\Local\\Temp\\ipykernel_7284\\3180724024.py:16: FutureWarning:\n",
      "\n",
      "The frame.append method is deprecated and will be removed from pandas in a future version. Use pandas.concat instead.\n",
      "\n",
      "C:\\Users\\bnikh\\AppData\\Local\\Temp\\ipykernel_7284\\3180724024.py:16: FutureWarning:\n",
      "\n",
      "The frame.append method is deprecated and will be removed from pandas in a future version. Use pandas.concat instead.\n",
      "\n",
      "C:\\Users\\bnikh\\AppData\\Local\\Temp\\ipykernel_7284\\3180724024.py:16: FutureWarning:\n",
      "\n",
      "The frame.append method is deprecated and will be removed from pandas in a future version. Use pandas.concat instead.\n",
      "\n",
      "C:\\Users\\bnikh\\AppData\\Local\\Temp\\ipykernel_7284\\3180724024.py:16: FutureWarning:\n",
      "\n",
      "The frame.append method is deprecated and will be removed from pandas in a future version. Use pandas.concat instead.\n",
      "\n",
      "C:\\Users\\bnikh\\AppData\\Local\\Temp\\ipykernel_7284\\3180724024.py:16: FutureWarning:\n",
      "\n",
      "The frame.append method is deprecated and will be removed from pandas in a future version. Use pandas.concat instead.\n",
      "\n",
      "C:\\Users\\bnikh\\AppData\\Local\\Temp\\ipykernel_7284\\3180724024.py:16: FutureWarning:\n",
      "\n",
      "The frame.append method is deprecated and will be removed from pandas in a future version. Use pandas.concat instead.\n",
      "\n",
      "C:\\Users\\bnikh\\AppData\\Local\\Temp\\ipykernel_7284\\3180724024.py:16: FutureWarning:\n",
      "\n",
      "The frame.append method is deprecated and will be removed from pandas in a future version. Use pandas.concat instead.\n",
      "\n",
      "C:\\Users\\bnikh\\AppData\\Local\\Temp\\ipykernel_7284\\3180724024.py:16: FutureWarning:\n",
      "\n",
      "The frame.append method is deprecated and will be removed from pandas in a future version. Use pandas.concat instead.\n",
      "\n",
      "C:\\Users\\bnikh\\AppData\\Local\\Temp\\ipykernel_7284\\3180724024.py:16: FutureWarning:\n",
      "\n",
      "The frame.append method is deprecated and will be removed from pandas in a future version. Use pandas.concat instead.\n",
      "\n",
      "C:\\Users\\bnikh\\AppData\\Local\\Temp\\ipykernel_7284\\3180724024.py:16: FutureWarning:\n",
      "\n",
      "The frame.append method is deprecated and will be removed from pandas in a future version. Use pandas.concat instead.\n",
      "\n",
      "C:\\Users\\bnikh\\AppData\\Local\\Temp\\ipykernel_7284\\3180724024.py:16: FutureWarning:\n",
      "\n",
      "The frame.append method is deprecated and will be removed from pandas in a future version. Use pandas.concat instead.\n",
      "\n",
      "C:\\Users\\bnikh\\AppData\\Local\\Temp\\ipykernel_7284\\3180724024.py:16: FutureWarning:\n",
      "\n",
      "The frame.append method is deprecated and will be removed from pandas in a future version. Use pandas.concat instead.\n",
      "\n",
      "C:\\Users\\bnikh\\AppData\\Local\\Temp\\ipykernel_7284\\3180724024.py:16: FutureWarning:\n",
      "\n",
      "The frame.append method is deprecated and will be removed from pandas in a future version. Use pandas.concat instead.\n",
      "\n",
      "C:\\Users\\bnikh\\AppData\\Local\\Temp\\ipykernel_7284\\3180724024.py:16: FutureWarning:\n",
      "\n",
      "The frame.append method is deprecated and will be removed from pandas in a future version. Use pandas.concat instead.\n",
      "\n",
      "C:\\Users\\bnikh\\AppData\\Local\\Temp\\ipykernel_7284\\3180724024.py:16: FutureWarning:\n",
      "\n",
      "The frame.append method is deprecated and will be removed from pandas in a future version. Use pandas.concat instead.\n",
      "\n",
      "C:\\Users\\bnikh\\AppData\\Local\\Temp\\ipykernel_7284\\3180724024.py:16: FutureWarning:\n",
      "\n",
      "The frame.append method is deprecated and will be removed from pandas in a future version. Use pandas.concat instead.\n",
      "\n",
      "C:\\Users\\bnikh\\AppData\\Local\\Temp\\ipykernel_7284\\3180724024.py:16: FutureWarning:\n",
      "\n",
      "The frame.append method is deprecated and will be removed from pandas in a future version. Use pandas.concat instead.\n",
      "\n",
      "C:\\Users\\bnikh\\AppData\\Local\\Temp\\ipykernel_7284\\3180724024.py:16: FutureWarning:\n",
      "\n",
      "The frame.append method is deprecated and will be removed from pandas in a future version. Use pandas.concat instead.\n",
      "\n",
      "C:\\Users\\bnikh\\AppData\\Local\\Temp\\ipykernel_7284\\3180724024.py:16: FutureWarning:\n",
      "\n",
      "The frame.append method is deprecated and will be removed from pandas in a future version. Use pandas.concat instead.\n",
      "\n",
      "C:\\Users\\bnikh\\AppData\\Local\\Temp\\ipykernel_7284\\3180724024.py:16: FutureWarning:\n",
      "\n",
      "The frame.append method is deprecated and will be removed from pandas in a future version. Use pandas.concat instead.\n",
      "\n",
      "C:\\Users\\bnikh\\AppData\\Local\\Temp\\ipykernel_7284\\3180724024.py:16: FutureWarning:\n",
      "\n",
      "The frame.append method is deprecated and will be removed from pandas in a future version. Use pandas.concat instead.\n",
      "\n",
      "C:\\Users\\bnikh\\AppData\\Local\\Temp\\ipykernel_7284\\3180724024.py:16: FutureWarning:\n",
      "\n",
      "The frame.append method is deprecated and will be removed from pandas in a future version. Use pandas.concat instead.\n",
      "\n",
      "C:\\Users\\bnikh\\AppData\\Local\\Temp\\ipykernel_7284\\3180724024.py:16: FutureWarning:\n",
      "\n",
      "The frame.append method is deprecated and will be removed from pandas in a future version. Use pandas.concat instead.\n",
      "\n",
      "C:\\Users\\bnikh\\AppData\\Local\\Temp\\ipykernel_7284\\3180724024.py:16: FutureWarning:\n",
      "\n",
      "The frame.append method is deprecated and will be removed from pandas in a future version. Use pandas.concat instead.\n",
      "\n",
      "C:\\Users\\bnikh\\AppData\\Local\\Temp\\ipykernel_7284\\3180724024.py:16: FutureWarning:\n",
      "\n",
      "The frame.append method is deprecated and will be removed from pandas in a future version. Use pandas.concat instead.\n",
      "\n",
      "C:\\Users\\bnikh\\AppData\\Local\\Temp\\ipykernel_7284\\3180724024.py:16: FutureWarning:\n",
      "\n",
      "The frame.append method is deprecated and will be removed from pandas in a future version. Use pandas.concat instead.\n",
      "\n",
      "C:\\Users\\bnikh\\AppData\\Local\\Temp\\ipykernel_7284\\3180724024.py:16: FutureWarning:\n",
      "\n",
      "The frame.append method is deprecated and will be removed from pandas in a future version. Use pandas.concat instead.\n",
      "\n",
      "C:\\Users\\bnikh\\AppData\\Local\\Temp\\ipykernel_7284\\3180724024.py:16: FutureWarning:\n",
      "\n",
      "The frame.append method is deprecated and will be removed from pandas in a future version. Use pandas.concat instead.\n",
      "\n",
      "C:\\Users\\bnikh\\AppData\\Local\\Temp\\ipykernel_7284\\3180724024.py:16: FutureWarning:\n",
      "\n",
      "The frame.append method is deprecated and will be removed from pandas in a future version. Use pandas.concat instead.\n",
      "\n",
      "C:\\Users\\bnikh\\AppData\\Local\\Temp\\ipykernel_7284\\3180724024.py:16: FutureWarning:\n",
      "\n",
      "The frame.append method is deprecated and will be removed from pandas in a future version. Use pandas.concat instead.\n",
      "\n",
      "C:\\Users\\bnikh\\AppData\\Local\\Temp\\ipykernel_7284\\3180724024.py:16: FutureWarning:\n",
      "\n",
      "The frame.append method is deprecated and will be removed from pandas in a future version. Use pandas.concat instead.\n",
      "\n",
      "C:\\Users\\bnikh\\AppData\\Local\\Temp\\ipykernel_7284\\3180724024.py:16: FutureWarning:\n",
      "\n",
      "The frame.append method is deprecated and will be removed from pandas in a future version. Use pandas.concat instead.\n",
      "\n",
      "C:\\Users\\bnikh\\AppData\\Local\\Temp\\ipykernel_7284\\3180724024.py:16: FutureWarning:\n",
      "\n",
      "The frame.append method is deprecated and will be removed from pandas in a future version. Use pandas.concat instead.\n",
      "\n",
      "C:\\Users\\bnikh\\AppData\\Local\\Temp\\ipykernel_7284\\3180724024.py:16: FutureWarning:\n",
      "\n",
      "The frame.append method is deprecated and will be removed from pandas in a future version. Use pandas.concat instead.\n",
      "\n",
      "C:\\Users\\bnikh\\AppData\\Local\\Temp\\ipykernel_7284\\3180724024.py:16: FutureWarning:\n",
      "\n",
      "The frame.append method is deprecated and will be removed from pandas in a future version. Use pandas.concat instead.\n",
      "\n",
      "C:\\Users\\bnikh\\AppData\\Local\\Temp\\ipykernel_7284\\3180724024.py:16: FutureWarning:\n",
      "\n",
      "The frame.append method is deprecated and will be removed from pandas in a future version. Use pandas.concat instead.\n",
      "\n",
      "C:\\Users\\bnikh\\AppData\\Local\\Temp\\ipykernel_7284\\3180724024.py:16: FutureWarning:\n",
      "\n",
      "The frame.append method is deprecated and will be removed from pandas in a future version. Use pandas.concat instead.\n",
      "\n",
      "C:\\Users\\bnikh\\AppData\\Local\\Temp\\ipykernel_7284\\3180724024.py:16: FutureWarning:\n",
      "\n",
      "The frame.append method is deprecated and will be removed from pandas in a future version. Use pandas.concat instead.\n",
      "\n",
      "C:\\Users\\bnikh\\AppData\\Local\\Temp\\ipykernel_7284\\3180724024.py:16: FutureWarning:\n",
      "\n",
      "The frame.append method is deprecated and will be removed from pandas in a future version. Use pandas.concat instead.\n",
      "\n",
      "C:\\Users\\bnikh\\AppData\\Local\\Temp\\ipykernel_7284\\3180724024.py:16: FutureWarning:\n",
      "\n",
      "The frame.append method is deprecated and will be removed from pandas in a future version. Use pandas.concat instead.\n",
      "\n",
      "C:\\Users\\bnikh\\AppData\\Local\\Temp\\ipykernel_7284\\3180724024.py:16: FutureWarning:\n",
      "\n",
      "The frame.append method is deprecated and will be removed from pandas in a future version. Use pandas.concat instead.\n",
      "\n",
      "C:\\Users\\bnikh\\AppData\\Local\\Temp\\ipykernel_7284\\3180724024.py:16: FutureWarning:\n",
      "\n",
      "The frame.append method is deprecated and will be removed from pandas in a future version. Use pandas.concat instead.\n",
      "\n",
      "C:\\Users\\bnikh\\AppData\\Local\\Temp\\ipykernel_7284\\3180724024.py:16: FutureWarning:\n",
      "\n",
      "The frame.append method is deprecated and will be removed from pandas in a future version. Use pandas.concat instead.\n",
      "\n",
      "C:\\Users\\bnikh\\AppData\\Local\\Temp\\ipykernel_7284\\3180724024.py:16: FutureWarning:\n",
      "\n",
      "The frame.append method is deprecated and will be removed from pandas in a future version. Use pandas.concat instead.\n",
      "\n",
      "C:\\Users\\bnikh\\AppData\\Local\\Temp\\ipykernel_7284\\3180724024.py:16: FutureWarning:\n",
      "\n",
      "The frame.append method is deprecated and will be removed from pandas in a future version. Use pandas.concat instead.\n",
      "\n",
      "C:\\Users\\bnikh\\AppData\\Local\\Temp\\ipykernel_7284\\3180724024.py:16: FutureWarning:\n",
      "\n",
      "The frame.append method is deprecated and will be removed from pandas in a future version. Use pandas.concat instead.\n",
      "\n",
      "C:\\Users\\bnikh\\AppData\\Local\\Temp\\ipykernel_7284\\3180724024.py:16: FutureWarning:\n",
      "\n",
      "The frame.append method is deprecated and will be removed from pandas in a future version. Use pandas.concat instead.\n",
      "\n",
      "C:\\Users\\bnikh\\AppData\\Local\\Temp\\ipykernel_7284\\3180724024.py:16: FutureWarning:\n",
      "\n",
      "The frame.append method is deprecated and will be removed from pandas in a future version. Use pandas.concat instead.\n",
      "\n",
      "C:\\Users\\bnikh\\AppData\\Local\\Temp\\ipykernel_7284\\3180724024.py:16: FutureWarning:\n",
      "\n",
      "The frame.append method is deprecated and will be removed from pandas in a future version. Use pandas.concat instead.\n",
      "\n",
      "C:\\Users\\bnikh\\AppData\\Local\\Temp\\ipykernel_7284\\3180724024.py:16: FutureWarning:\n",
      "\n",
      "The frame.append method is deprecated and will be removed from pandas in a future version. Use pandas.concat instead.\n",
      "\n",
      "C:\\Users\\bnikh\\AppData\\Local\\Temp\\ipykernel_7284\\3180724024.py:16: FutureWarning:\n",
      "\n",
      "The frame.append method is deprecated and will be removed from pandas in a future version. Use pandas.concat instead.\n",
      "\n",
      "C:\\Users\\bnikh\\AppData\\Local\\Temp\\ipykernel_7284\\3180724024.py:16: FutureWarning:\n",
      "\n",
      "The frame.append method is deprecated and will be removed from pandas in a future version. Use pandas.concat instead.\n",
      "\n",
      "C:\\Users\\bnikh\\AppData\\Local\\Temp\\ipykernel_7284\\3180724024.py:16: FutureWarning:\n",
      "\n",
      "The frame.append method is deprecated and will be removed from pandas in a future version. Use pandas.concat instead.\n",
      "\n",
      "C:\\Users\\bnikh\\AppData\\Local\\Temp\\ipykernel_7284\\3180724024.py:16: FutureWarning:\n",
      "\n",
      "The frame.append method is deprecated and will be removed from pandas in a future version. Use pandas.concat instead.\n",
      "\n",
      "C:\\Users\\bnikh\\AppData\\Local\\Temp\\ipykernel_7284\\3180724024.py:16: FutureWarning:\n",
      "\n",
      "The frame.append method is deprecated and will be removed from pandas in a future version. Use pandas.concat instead.\n",
      "\n",
      "C:\\Users\\bnikh\\AppData\\Local\\Temp\\ipykernel_7284\\3180724024.py:16: FutureWarning:\n",
      "\n",
      "The frame.append method is deprecated and will be removed from pandas in a future version. Use pandas.concat instead.\n",
      "\n",
      "C:\\Users\\bnikh\\AppData\\Local\\Temp\\ipykernel_7284\\3180724024.py:16: FutureWarning:\n",
      "\n",
      "The frame.append method is deprecated and will be removed from pandas in a future version. Use pandas.concat instead.\n",
      "\n",
      "C:\\Users\\bnikh\\AppData\\Local\\Temp\\ipykernel_7284\\3180724024.py:16: FutureWarning:\n",
      "\n",
      "The frame.append method is deprecated and will be removed from pandas in a future version. Use pandas.concat instead.\n",
      "\n",
      "C:\\Users\\bnikh\\AppData\\Local\\Temp\\ipykernel_7284\\3180724024.py:16: FutureWarning:\n",
      "\n",
      "The frame.append method is deprecated and will be removed from pandas in a future version. Use pandas.concat instead.\n",
      "\n",
      "C:\\Users\\bnikh\\AppData\\Local\\Temp\\ipykernel_7284\\3180724024.py:16: FutureWarning:\n",
      "\n",
      "The frame.append method is deprecated and will be removed from pandas in a future version. Use pandas.concat instead.\n",
      "\n",
      "C:\\Users\\bnikh\\AppData\\Local\\Temp\\ipykernel_7284\\3180724024.py:16: FutureWarning:\n",
      "\n",
      "The frame.append method is deprecated and will be removed from pandas in a future version. Use pandas.concat instead.\n",
      "\n",
      "C:\\Users\\bnikh\\AppData\\Local\\Temp\\ipykernel_7284\\3180724024.py:16: FutureWarning:\n",
      "\n",
      "The frame.append method is deprecated and will be removed from pandas in a future version. Use pandas.concat instead.\n",
      "\n",
      "C:\\Users\\bnikh\\AppData\\Local\\Temp\\ipykernel_7284\\3180724024.py:16: FutureWarning:\n",
      "\n",
      "The frame.append method is deprecated and will be removed from pandas in a future version. Use pandas.concat instead.\n",
      "\n",
      "C:\\Users\\bnikh\\AppData\\Local\\Temp\\ipykernel_7284\\3180724024.py:16: FutureWarning:\n",
      "\n",
      "The frame.append method is deprecated and will be removed from pandas in a future version. Use pandas.concat instead.\n",
      "\n",
      "C:\\Users\\bnikh\\AppData\\Local\\Temp\\ipykernel_7284\\3180724024.py:16: FutureWarning:\n",
      "\n",
      "The frame.append method is deprecated and will be removed from pandas in a future version. Use pandas.concat instead.\n",
      "\n",
      "C:\\Users\\bnikh\\AppData\\Local\\Temp\\ipykernel_7284\\3180724024.py:16: FutureWarning:\n",
      "\n",
      "The frame.append method is deprecated and will be removed from pandas in a future version. Use pandas.concat instead.\n",
      "\n",
      "C:\\Users\\bnikh\\AppData\\Local\\Temp\\ipykernel_7284\\3180724024.py:16: FutureWarning:\n",
      "\n",
      "The frame.append method is deprecated and will be removed from pandas in a future version. Use pandas.concat instead.\n",
      "\n",
      "C:\\Users\\bnikh\\AppData\\Local\\Temp\\ipykernel_7284\\3180724024.py:16: FutureWarning:\n",
      "\n",
      "The frame.append method is deprecated and will be removed from pandas in a future version. Use pandas.concat instead.\n",
      "\n",
      "C:\\Users\\bnikh\\AppData\\Local\\Temp\\ipykernel_7284\\3180724024.py:16: FutureWarning:\n",
      "\n",
      "The frame.append method is deprecated and will be removed from pandas in a future version. Use pandas.concat instead.\n",
      "\n",
      "C:\\Users\\bnikh\\AppData\\Local\\Temp\\ipykernel_7284\\3180724024.py:16: FutureWarning:\n",
      "\n",
      "The frame.append method is deprecated and will be removed from pandas in a future version. Use pandas.concat instead.\n",
      "\n"
     ]
    }
   ],
   "source": [
    "from sklearn.model_selection import train_test_split\n",
    "datafile = datafile.sample(frac=1).reset_index(drop=True)\n",
    "X_train, X_test, y_train, y_test = train_test_split(datafile['Text'], datafile['Sentiment Value'], test_size=0.2, random_state=42)\n",
    "print('X_train shape: ', X_train.shape)\n",
    "print('y_train shape: ', y_train.shape)\n",
    "print('X_test shape: ', X_test.shape)\n",
    "print('y_test shape: ', y_test.shape)\n",
    "\n",
    "new_df = pd.DataFrame(columns=['Text', 'Sentiment Value'])\n",
    "\n",
    "for index, row in datafile.iterrows():\n",
    "    if row['Sentiment Value'] == -1:\n",
    "        if row['Text'] not in X_train:\n",
    "            new_row = {'Text': row['Text'], 'Sentiment Value': row['Sentiment Value']}\n",
    "            new_df = new_df.append(new_row, ignore_index=True)\n",
    "\n",
    "X_train = pd.concat([X_train, new_df['Text']], ignore_index=True)\n",
    "y_train = pd.concat([y_train, new_df['Sentiment Value']], ignore_index=True)\n",
    "\n",
    "print('X_train shape: ', X_train.shape)\n",
    "print('y_train shape: ', y_train.shape)\n",
    "print('X_test shape: ', X_test.shape)\n",
    "print('y_test shape: ', y_test.shape)\n"
   ]
  },
  {
   "cell_type": "code",
   "execution_count": 39,
   "id": "91b6eb33",
   "metadata": {},
   "outputs": [
    {
     "name": "stdout",
     "output_type": "stream",
     "text": [
      "X_train shape:  (1449, 100)\n",
      "y_train shape:  (1449,)\n",
      "X_test shape:  (345, 100)\n",
      "y_test shape:  (345,)\n"
     ]
    }
   ],
   "source": [
    "import numpy as np\n",
    "from tensorflow.keras.models import Sequential\n",
    "from tensorflow.keras.layers import Embedding, LSTM, Conv1D, MaxPooling1D, GRU, Dense, Dropout\n",
    "from tensorflow.keras.preprocessing.text import Tokenizer\n",
    "from tensorflow.keras.preprocessing.sequence import pad_sequences\n",
    "from sklearn.metrics import classification_report\n",
    "\n",
    "\n",
    "np.random.seed(42)\n",
    "y_train = y_train.to_numpy()\n",
    "y_test = y_test.to_numpy()\n",
    "\n",
    "tokenizer = Tokenizer(num_words=5000)\n",
    "tokenizer.fit_on_texts(X_train)\n",
    "X_train = tokenizer.texts_to_sequences(X_train)\n",
    "X_test = tokenizer.texts_to_sequences(X_test)\n",
    "\n",
    "\n",
    "maxlen = 100\n",
    "X_train = pad_sequences(X_train, padding='post', maxlen=maxlen)\n",
    "X_test = pad_sequences(X_test, padding='post', maxlen=maxlen)\n",
    "print('X_train shape: ', X_train.shape)\n",
    "print('y_train shape: ', y_train.shape)\n",
    "print('X_test shape: ', X_test.shape)\n",
    "print('y_test shape: ', y_test.shape)"
   ]
  },
  {
   "cell_type": "code",
   "execution_count": 40,
   "id": "98b2385a",
   "metadata": {},
   "outputs": [],
   "source": [
    "X_train = X_train.astype('float32')\n",
    "y_train = y_train.astype('float32')"
   ]
  },
  {
   "cell_type": "code",
   "execution_count": 41,
   "id": "09896024",
   "metadata": {
    "scrolled": false
   },
   "outputs": [
    {
     "name": "stdout",
     "output_type": "stream",
     "text": [
      "Epoch 1/25\n",
      "46/46 [==============================] - 7s 64ms/step - loss: 1.2012 - accuracy: 0.5535 - val_loss: 0.8007 - val_accuracy: 0.6000\n",
      "Epoch 2/25\n",
      "46/46 [==============================] - 2s 46ms/step - loss: 0.6645 - accuracy: 0.5583 - val_loss: 0.6315 - val_accuracy: 0.6000\n",
      "Epoch 3/25\n",
      "46/46 [==============================] - 2s 46ms/step - loss: 0.5983 - accuracy: 0.5583 - val_loss: 0.6584 - val_accuracy: 0.6000\n",
      "Epoch 4/25\n",
      "46/46 [==============================] - 2s 46ms/step - loss: 0.5702 - accuracy: 0.5659 - val_loss: 0.4868 - val_accuracy: 0.7304\n",
      "Epoch 5/25\n",
      "46/46 [==============================] - 2s 47ms/step - loss: -0.0179 - accuracy: 0.8019 - val_loss: 0.0339 - val_accuracy: 0.8667\n",
      "Epoch 6/25\n",
      "46/46 [==============================] - 2s 46ms/step - loss: -0.6810 - accuracy: 0.8730 - val_loss: -0.1409 - val_accuracy: 0.8116\n",
      "Epoch 7/25\n",
      "46/46 [==============================] - 2s 46ms/step - loss: -1.3042 - accuracy: 0.8806 - val_loss: -0.1990 - val_accuracy: 0.8696\n",
      "Epoch 8/25\n",
      "46/46 [==============================] - 2s 47ms/step - loss: -1.9588 - accuracy: 0.8654 - val_loss: -0.6470 - val_accuracy: 0.8551\n",
      "Epoch 9/25\n",
      "46/46 [==============================] - 2s 49ms/step - loss: -2.5488 - accuracy: 0.8847 - val_loss: -1.0457 - val_accuracy: 0.8667\n",
      "Epoch 10/25\n",
      "46/46 [==============================] - 2s 47ms/step - loss: -3.2351 - accuracy: 0.8778 - val_loss: -1.2453 - val_accuracy: 0.8638\n",
      "Epoch 11/25\n",
      "46/46 [==============================] - 2s 47ms/step - loss: -4.0118 - accuracy: 0.8951 - val_loss: -1.7681 - val_accuracy: 0.8638\n",
      "Epoch 12/25\n",
      "46/46 [==============================] - 2s 47ms/step - loss: -5.1475 - accuracy: 0.9013 - val_loss: -2.1739 - val_accuracy: 0.8638\n",
      "Epoch 13/25\n",
      "46/46 [==============================] - 2s 49ms/step - loss: -6.4471 - accuracy: 0.8965 - val_loss: -1.4361 - val_accuracy: 0.8551\n",
      "Epoch 14/25\n",
      "46/46 [==============================] - 2s 47ms/step - loss: -7.0317 - accuracy: 0.8937 - val_loss: -2.9407 - val_accuracy: 0.8667\n",
      "Epoch 15/25\n",
      "46/46 [==============================] - 2s 45ms/step - loss: -8.5520 - accuracy: 0.8972 - val_loss: -3.4630 - val_accuracy: 0.8725\n",
      "Epoch 16/25\n",
      "46/46 [==============================] - 2s 46ms/step - loss: -9.6523 - accuracy: 0.8944 - val_loss: -3.9325 - val_accuracy: 0.8725\n",
      "Epoch 17/25\n",
      "46/46 [==============================] - 2s 46ms/step - loss: -11.1107 - accuracy: 0.8999 - val_loss: -4.1747 - val_accuracy: 0.8667\n",
      "Epoch 18/25\n",
      "46/46 [==============================] - 2s 45ms/step - loss: -10.4621 - accuracy: 0.8392 - val_loss: -3.6198 - val_accuracy: 0.8406\n",
      "Epoch 19/25\n",
      "46/46 [==============================] - 2s 45ms/step - loss: -12.4784 - accuracy: 0.8930 - val_loss: -3.1929 - val_accuracy: 0.8696\n",
      "Epoch 20/25\n",
      "46/46 [==============================] - 2s 45ms/step - loss: -14.2797 - accuracy: 0.9034 - val_loss: -3.6605 - val_accuracy: 0.8725\n",
      "Epoch 21/25\n",
      "46/46 [==============================] - 2s 45ms/step - loss: -15.6921 - accuracy: 0.8792 - val_loss: -3.3791 - val_accuracy: 0.7362\n",
      "Epoch 22/25\n",
      "46/46 [==============================] - 2s 45ms/step - loss: -15.8675 - accuracy: 0.8785 - val_loss: -5.3427 - val_accuracy: 0.8638\n",
      "Epoch 23/25\n",
      "46/46 [==============================] - 2s 46ms/step - loss: -18.6477 - accuracy: 0.8958 - val_loss: -6.3124 - val_accuracy: 0.8638\n",
      "Epoch 24/25\n",
      "46/46 [==============================] - 2s 45ms/step - loss: -20.8982 - accuracy: 0.9020 - val_loss: -6.3885 - val_accuracy: 0.8609\n",
      "Epoch 25/25\n",
      "46/46 [==============================] - 2s 45ms/step - loss: -22.1568 - accuracy: 0.9020 - val_loss: -6.7465 - val_accuracy: 0.8638\n"
     ]
    }
   ],
   "source": [
    "from tensorflow.keras import regularizers\n",
    "model = Sequential()\n",
    "model.add(Embedding(5000, 128, input_length=maxlen))\n",
    "model.add(Conv1D(128, 5, activation='relu', kernel_regularizer=regularizers.l2(0.01)))\n",
    "model.add(Dropout(0.7))\n",
    "model.add(MaxPooling1D(pool_size=6))\n",
    "model.add(GRU(80, return_sequences=True)) \n",
    "model.add(LSTM(36))\n",
    "model.add(Dropout(0.5))\n",
    "model.add(Dense(6, activation='relu'))\n",
    "model.add(Dense(1, activation='sigmoid'))\n",
    "model.compile(loss='binary_crossentropy', optimizer='adam', metrics=['accuracy'])\n",
    "\n",
    "history = model.fit(np.array(X_train), y_train, epochs=25, batch_size=32, validation_data=(np.array(X_test), y_test))\n"
   ]
  },
  {
   "cell_type": "code",
   "execution_count": 42,
   "id": "850bead4",
   "metadata": {
    "scrolled": true
   },
   "outputs": [
    {
     "name": "stdout",
     "output_type": "stream",
     "text": [
      "46/46 [==============================] - 1s 12ms/step - loss: -23.2992 - accuracy: 0.9061\n",
      "Train loss: -23.29922103881836\n",
      "Train accuracy: 0.9061421751976013\n"
     ]
    }
   ],
   "source": [
    "train_loss, train_acc = model.evaluate(X_train, y_train)\n",
    "print('Train loss:', train_loss)\n",
    "print('Train accuracy:', train_acc)"
   ]
  },
  {
   "cell_type": "code",
   "execution_count": 43,
   "id": "cc629e7a",
   "metadata": {},
   "outputs": [
    {
     "name": "stdout",
     "output_type": "stream",
     "text": [
      "11/11 [==============================] - 0s 11ms/step - loss: -6.7465 - accuracy: 0.8638\n"
     ]
    }
   ],
   "source": [
    "x=model.evaluate(X_test, y_test)"
   ]
  },
  {
   "cell_type": "code",
   "execution_count": 50,
   "id": "fd5396ba",
   "metadata": {
    "scrolled": false
   },
   "outputs": [
    {
     "data": {
      "image/png": "[encoded data removed]",
      "text/plain": [
       "<Figure size 640x480 with 1 Axes>"
      ]
     },
     "metadata": {},
     "output_type": "display_data"
    }
   ],
   "source": [
    "import matplotlib.pyplot as mpt\n",
    "\n",
    "mpt.plot(history.history['accuracy'])\n",
    "mpt.plot(history.history['val_accuracy'])\n",
    "mpt.title('Model accuracy')\n",
    "mpt.ylabel('Accuracy')\n",
    "mpt.xlabel('Epoch')\n",
    "mpt.legend(['Train', 'Test'], loc='upper left')\n",
    "mpt.show()\n"
   ]
  },
  {
   "cell_type": "markdown",
   "id": "7b44fc07",
   "metadata": {},
   "source": [
    "<b>Model Evaluation</b>"
   ]
  },
  {
   "cell_type": "code",
   "execution_count": 52,
   "id": "85e7807f",
   "metadata": {},
   "outputs": [
    {
     "name": "stdout",
     "output_type": "stream",
     "text": [
      "11/11 [==============================] - 0s 11ms/step\n",
      "Accuracy: 86.38%\n",
      "Precision: 81.98%\n",
      "Recall: 86.38%\n",
      "F1-score: 84.03%\n"
     ]
    },
    {
     "name": "stderr",
     "output_type": "stream",
     "text": [
      "C:\\Users\\bnikh\\anaconda3\\lib\\site-packages\\sklearn\\metrics\\_classification.py:1318: UndefinedMetricWarning:\n",
      "\n",
      "Precision is ill-defined and being set to 0.0 in labels with no predicted samples. Use `zero_division` parameter to control this behavior.\n",
      "\n"
     ]
    }
   ],
   "source": [
    "from sklearn.metrics import *\n",
    "y_pred_proba = model.predict(np.array(X_test))\n",
    "y_pred = np.round(y_pred_proba)\n",
    "\n",
    "accuracy = accuracy_score(y_test, y_pred)\n",
    "precision = precision_score(y_test, y_pred, average='weighted')\n",
    "recall = recall_score(y_test, y_pred, average='weighted')\n",
    "f1 = f1_score(y_test, y_pred, average='weighted')\n",
    "\n",
    "print(\"Accuracy: {:.2f}%\".format(accuracy*100))\n",
    "print(\"Precision: {:.2f}%\".format(precision*100))\n",
    "print(\"Recall: {:.2f}%\".format(recall*100))\n",
    "print(\"F1-score: {:.2f}%\".format(f1*100))\n"
   ]
  },
  {
   "cell_type": "code",
   "execution_count": 1,
   "id": "f7f7d7d4",
   "metadata": {
    "scrolled": false
   },
   "outputs": [
    {
     "ename": "NameError",
     "evalue": "name 'y_test' is not defined",
     "output_type": "error",
     "traceback": [
      "\u001b[1;31m---------------------------------------------------------------------------\u001b[0m",
      "\u001b[1;31mNameError\u001b[0m                                 Traceback (most recent call last)",
      "\u001b[1;32m~\\AppData\\Local\\Temp\\ipykernel_9544\\2724094.py\u001b[0m in \u001b[0;36m<module>\u001b[1;34m\u001b[0m\n\u001b[0;32m      3\u001b[0m \u001b[1;32mfrom\u001b[0m \u001b[0msklearn\u001b[0m\u001b[1;33m.\u001b[0m\u001b[0mmetrics\u001b[0m \u001b[1;32mimport\u001b[0m \u001b[0mconfusion_matrix\u001b[0m\u001b[1;33m\u001b[0m\u001b[1;33m\u001b[0m\u001b[0m\n\u001b[0;32m      4\u001b[0m \u001b[1;33m\u001b[0m\u001b[0m\n\u001b[1;32m----> 5\u001b[1;33m \u001b[0mcm\u001b[0m \u001b[1;33m=\u001b[0m \u001b[0mconfusion_matrix\u001b[0m\u001b[1;33m(\u001b[0m\u001b[0my_test\u001b[0m\u001b[1;33m,\u001b[0m \u001b[0my_pred\u001b[0m\u001b[1;33m)\u001b[0m\u001b[1;33m\u001b[0m\u001b[1;33m\u001b[0m\u001b[0m\n\u001b[0m\u001b[0;32m      6\u001b[0m \u001b[1;33m\u001b[0m\u001b[0m\n\u001b[0;32m      7\u001b[0m \u001b[0mprint\u001b[0m\u001b[1;33m(\u001b[0m\u001b[0mcm\u001b[0m\u001b[1;33m)\u001b[0m\u001b[1;33m\u001b[0m\u001b[1;33m\u001b[0m\u001b[0m\n",
      "\u001b[1;31mNameError\u001b[0m: name 'y_test' is not defined"
     ]
    }
   ],
   "source": [
    "import seaborn as sns\n",
    "import matplotlib.pyplot as plt\n",
    "from sklearn.metrics import confusion_matrix\n",
    "\n",
    "cm = confusion_matrix(y_test, y_pred)\n",
    "\n",
    "print(cm)\n",
    "\n",
    "sns.heatmap(cm, annot=True, cmap='Blues', fmt='g')\n",
    "plt.xlabel('Predicted label')\n",
    "plt.ylabel('True label')\n",
    "plt.show()\n"
   ]
  },
  {
   "cell_type": "code",
   "execution_count": 49,
   "id": "9648229a",
   "metadata": {
    "scrolled": false
   },
   "outputs": [
    {
     "name": "stdout",
     "output_type": "stream",
     "text": [
      "1/1 [==============================] - 0s 40ms/step\n",
      "it is raining\n",
      "0.0\n",
      "Neutral\n",
      "\n",
      "I love going to USF games, it's so much fun!\n",
      "0.9925699\n",
      "Positive\n",
      "\n",
      "the campus is peaceful in USF\n",
      "0.0\n",
      "Neutral\n",
      "\n",
      "I can't wait for the semester to be over, it's been so stressful\n",
      "0.31482998\n",
      "Negative\n",
      "\n",
      "USF's campus is beautiful, especially during the winter\n",
      "0.94054645\n",
      "Positive\n",
      "\n",
      "I had a great time at the USF orientation, it was very informative\n",
      "0.9931116\n",
      "Positive\n",
      "\n",
      "i lost my interest in joining this university\n",
      "0.31482998\n",
      "Negative\n",
      "\n",
      "I'm disappointed with the quality of education at USF, it's not what I expected\n",
      "0.33064747\n",
      "Negative\n",
      "\n",
      "I'm so proud to be a USF Bull!\n",
      "0.80014384\n",
      "Positive\n",
      "\n",
      "usf ranks 14th in US rankings\n",
      "0.99236524\n",
      "Positive\n",
      "\n",
      "usf is famous for games\n",
      "0.0\n",
      "Neutral\n",
      "\n"
     ]
    }
   ],
   "source": [
    "sentences = [\n",
    "    \"it is raining\",\n",
    "    \"I love going to USF games, it's so much fun!\", \n",
    "    \"the campus is peaceful in USF\",\n",
    "    \"I can't wait for the semester to be over, it's been so stressful\",\n",
    "    \"USF's campus is beautiful, especially during the winter\",\n",
    "    \"I had a great time at the USF orientation, it was very informative\",\n",
    "    \"i lost my interest in joining this university\",\n",
    "    \"I'm disappointed with the quality of education at USF, it's not what I expected\",\n",
    "    \"I'm so proud to be a USF Bull!\",\n",
    "    \"usf ranks 14th in US rankings\",\n",
    "    \"usf is famous for games\"\n",
    "   ]\n",
    "\n",
    "processed_sentences = [preprocess_text(sentence) for sentence in sentences]\n",
    "\n",
    "sequence_lengths = [len(sequence.split()) for sequence in processed_sentences]\n",
    "tokenized_sentences = tokenizer.texts_to_sequences(processed_sentences)\n",
    "padded_sentences = pad_sequences(tokenized_sentences, padding='post', maxlen=100)\n",
    "\n",
    "predictions = model.predict(padded_sentences)\n",
    "labels = np.round(predictions).astype(int)\n",
    "\n",
    "for i in range(len(sentences)):\n",
    "    if(predictions[i][0]<0.5 and predictions[i][0]>0.0 ):\n",
    "        print(sentences[i])\n",
    "        print(predictions[i][0])\n",
    "        print(\"Negative\")\n",
    "    elif (predictions[i][0]>0.5):\n",
    "        print(sentences[i])\n",
    "        print(predictions[i][0])\n",
    "        print(\"Positive\")\n",
    "    elif (predictions[i][0]==0.0):\n",
    "        print(sentences[i])\n",
    "        print(predictions[i][0])\n",
    "        print(\"Neutral\")\n",
    "    print()\n"
   ]
  },
  {
   "cell_type": "code",
   "execution_count": null,
   "id": "4b00cb1f",
   "metadata": {},
   "outputs": [],
   "source": []
  }
 ],
 "metadata": {
  "kernelspec": {
   "display_name": "Python 3 (ipykernel)",
   "language": "python",
   "name": "python3"
  },
  "language_info": {
   "codemirror_mode": {
    "name": "ipython",
    "version": 3
   },
   "file_extension": ".py",
   "mimetype": "text/x-python",
   "name": "python",
   "nbconvert_exporter": "python",
   "pygments_lexer": "ipython3",
   "version": "3.9.13"
  }
 },
 "nbformat": 4,
 "nbformat_minor": 5
}
